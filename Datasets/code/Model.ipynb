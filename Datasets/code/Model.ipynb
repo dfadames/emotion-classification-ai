{
  "nbformat": 4,
  "nbformat_minor": 0,
  "metadata": {
    "colab": {
      "provenance": []
    },
    "kernelspec": {
      "name": "python3",
      "display_name": "Python 3"
    },
    "language_info": {
      "name": "python"
    }
  },
  "cells": [
    {
      "cell_type": "code",
      "source": [
        "!pip install opendatasets"
      ],
      "metadata": {
        "colab": {
          "base_uri": "https://localhost:8080/"
        },
        "id": "C4qv7-xx1HwJ",
        "outputId": "9d4d8f72-17b9-47bd-fe3a-858b2bc07401"
      },
      "execution_count": null,
      "outputs": [
        {
          "output_type": "stream",
          "name": "stdout",
          "text": [
            "Collecting opendatasets\n",
            "  Downloading opendatasets-0.1.22-py3-none-any.whl (15 kB)\n",
            "Requirement already satisfied: tqdm in /usr/local/lib/python3.10/dist-packages (from opendatasets) (4.66.4)\n",
            "Requirement already satisfied: kaggle in /usr/local/lib/python3.10/dist-packages (from opendatasets) (1.6.14)\n",
            "Requirement already satisfied: click in /usr/local/lib/python3.10/dist-packages (from opendatasets) (8.1.7)\n",
            "Requirement already satisfied: six>=1.10 in /usr/local/lib/python3.10/dist-packages (from kaggle->opendatasets) (1.16.0)\n",
            "Requirement already satisfied: certifi>=2023.7.22 in /usr/local/lib/python3.10/dist-packages (from kaggle->opendatasets) (2024.6.2)\n",
            "Requirement already satisfied: python-dateutil in /usr/local/lib/python3.10/dist-packages (from kaggle->opendatasets) (2.8.2)\n",
            "Requirement already satisfied: requests in /usr/local/lib/python3.10/dist-packages (from kaggle->opendatasets) (2.31.0)\n",
            "Requirement already satisfied: python-slugify in /usr/local/lib/python3.10/dist-packages (from kaggle->opendatasets) (8.0.4)\n",
            "Requirement already satisfied: urllib3 in /usr/local/lib/python3.10/dist-packages (from kaggle->opendatasets) (2.0.7)\n",
            "Requirement already satisfied: bleach in /usr/local/lib/python3.10/dist-packages (from kaggle->opendatasets) (6.1.0)\n",
            "Requirement already satisfied: webencodings in /usr/local/lib/python3.10/dist-packages (from bleach->kaggle->opendatasets) (0.5.1)\n",
            "Requirement already satisfied: text-unidecode>=1.3 in /usr/local/lib/python3.10/dist-packages (from python-slugify->kaggle->opendatasets) (1.3)\n",
            "Requirement already satisfied: charset-normalizer<4,>=2 in /usr/local/lib/python3.10/dist-packages (from requests->kaggle->opendatasets) (3.3.2)\n",
            "Requirement already satisfied: idna<4,>=2.5 in /usr/local/lib/python3.10/dist-packages (from requests->kaggle->opendatasets) (3.7)\n",
            "Installing collected packages: opendatasets\n",
            "Successfully installed opendatasets-0.1.22\n"
          ]
        }
      ]
    },
    {
      "cell_type": "code",
      "execution_count": null,
      "metadata": {
        "id": "UmqFuSRc996O",
        "colab": {
          "base_uri": "https://localhost:8080/"
        },
        "outputId": "a753f0a7-8b22-4db0-d626-61c1023660bf"
      },
      "outputs": [
        {
          "output_type": "stream",
          "name": "stdout",
          "text": [
            "Please provide your Kaggle credentials to download this dataset. Learn more: http://bit.ly/kaggle-creds\n",
            "Your Kaggle username: Dadames\n",
            "Your Kaggle Key: ··········\n",
            "Dataset URL: https://www.kaggle.com/datasets/birdy654/eeg-brainwave-dataset-feeling-emotions\n",
            "Downloading eeg-brainwave-dataset-feeling-emotions.zip to ./eeg-brainwave-dataset-feeling-emotions\n"
          ]
        },
        {
          "output_type": "stream",
          "name": "stderr",
          "text": [
            "100%|██████████| 11.9M/11.9M [00:00<00:00, 29.4MB/s]\n"
          ]
        },
        {
          "output_type": "stream",
          "name": "stdout",
          "text": [
            "\n"
          ]
        }
      ],
      "source": [
        "import opendatasets as od\n",
        "import os\n",
        "import pandas as pd\n",
        "import numpy as np\n",
        "import torch\n",
        "from torch.utils.data import DataLoader, TensorDataset, random_split\n",
        "\n",
        "\n",
        "# Load data from the CSV file\n",
        "od.download(\"https://www.kaggle.com/datasets/birdy654/eeg-brainwave-dataset-feeling-emotions/data\")\n",
        "os.chdir(\"eeg-brainwave-dataset-feeling-emotions\")\n",
        "os.listdir()\n",
        "data = pd.read_csv(\"emotions.csv\")\n",
        "\n",
        "# Separate features and labels\n",
        "X = data.iloc[:, :-1].values  # All columns except the last one and first row\n",
        "y = data.iloc[:, -1].values  # The last column except the first row\n",
        "\n",
        "# Convert labels to numeric values (0: negative, 1: neutral, 2: positive)\n",
        "label_mapping = {'NEGATIVE': 0, 'NEUTRAL': 1, 'POSITIVE': 2}\n",
        "y = np.array([label_mapping[label] for label in y])\n",
        "\n",
        "# Convert to PyTorch tensors\n",
        "X = torch.tensor(X, dtype=torch.float32)\n",
        "y = torch.tensor(y, dtype=torch.long)\n",
        "\n",
        "# Reshape X to have the shape (num_samples, sequence_length, num_features)\n",
        "X = X.view(X.shape[0], 1, X.shape[1])\n",
        "\n",
        "# Create dataset and dataloaders\n",
        "dataset = TensorDataset(X, y)\n",
        "\n",
        "# Decide training dataset size (80% of the complete dataset)\n",
        "train_size = int(0.8 * len(dataset))\n",
        "val_size = len(dataset) - train_size\n",
        "\n",
        "# Split the training set and the test set\n",
        "train_dataset, val_dataset = random_split(dataset, [train_size, val_size])\n",
        "\n",
        "# here we have both training sets\n",
        "training_loader = DataLoader(train_dataset, batch_size=32, shuffle=True)\n",
        "val_loader = DataLoader(val_dataset, batch_size=32, shuffle=False)\n"
      ]
    },
    {
      "cell_type": "code",
      "source": [
        "# This is a classic LSTM architecture used to train the model. I don't alter too much here,\n",
        "# it's very similar to the architecture that you usually find in other models.\n",
        "\n",
        "import torch.nn as nn\n",
        "\n",
        "class LSTMClassifier(nn.Module):\n",
        "    def __init__(self, input_size, hidden_size, num_layers, num_classes):\n",
        "        super(LSTMClassifier, self).__init__()\n",
        "        self.lstm = nn.LSTM(input_size, hidden_size, num_layers, batch_first=True)\n",
        "        self.fc = nn.Linear(hidden_size, num_classes)\n",
        "\n",
        "    def forward(self, x):\n",
        "        h_0 = torch.zeros(self.lstm.num_layers, x.size(0), self.lstm.hidden_size).to(x.device)\n",
        "        c_0 = torch.zeros(self.lstm.num_layers, x.size(0), self.lstm.hidden_size).to(x.device)\n",
        "\n",
        "        out, _ = self.lstm(x, (h_0, c_0))\n",
        "        out = self.fc(out[:, -1, :])\n",
        "        return out\n",
        "\n",
        "# Hyperparameters (I chose these for no particular reason at all)\n",
        "input_size = X.shape[2]  # Number of features per time step\n",
        "hidden_size = 50\n",
        "num_layers = 2\n",
        "num_classes = 3\n",
        "learning_rate = 0.001\n",
        "# epoch (how many times the model is gonna be trained)\n",
        "num_epochs = 20\n",
        "\n",
        "# Create the model based on the LSTM classifier\n",
        "model = LSTMClassifier(input_size, hidden_size, num_layers, num_classes)"
      ],
      "metadata": {
        "id": "UuadgqyqAMLx"
      },
      "execution_count": null,
      "outputs": []
    },
    {
      "cell_type": "code",
      "source": [
        "# train\n",
        "import torch.optim as optim\n",
        "\n",
        "# choose the gpu to be used\n",
        "device = torch.device('cuda' if torch.cuda.is_available() else 'cpu')\n",
        "model.to(device)\n",
        "\n",
        "# The loss function. This is the function that quantifies how well an algorithm\n",
        "# models a dataset. In particular, the Cross Entropy function measures\n",
        "# the average number of bits needed to identify an event from one probability\n",
        "# distribution p using the optimal code for another probability distribution q.\n",
        "criterion = nn.CrossEntropyLoss()\n",
        "\n",
        "# optimizer (the algorithm that finds the optimal values for each hidden unit)\n",
        "optimizer = optim.Adam(model.parameters(), lr=learning_rate)\n",
        "\n",
        "# Training loop\n",
        "for epoch in range(num_epochs):\n",
        "    model.train()\n",
        "    for inputs, labels in training_loader:\n",
        "        inputs, labels = inputs.to(device), labels.to(device)\n",
        "        outputs = model(inputs)\n",
        "        loss = criterion(outputs, labels)\n",
        "\n",
        "        optimizer.zero_grad()\n",
        "        loss.backward()\n",
        "        optimizer.step()\n",
        "\n",
        "    print(f'Epoch [{epoch+1}/{num_epochs}], Loss: {loss.item():.4f}')\n",
        "\n",
        "    # Validation\n",
        "\n",
        "    # after each epoch, we do a validation of the model\n",
        "    model.eval()\n",
        "    with torch.no_grad():\n",
        "        correct = 0\n",
        "        total = 0\n",
        "        for inputs, labels in val_loader:\n",
        "            inputs, labels = inputs.to(device), labels.to(device)\n",
        "            outputs = model(inputs)\n",
        "            _, predicted = torch.max(outputs.data, 1)\n",
        "            total += labels.size(0)\n",
        "            correct += (predicted == labels).sum().item()\n",
        "\n",
        "        print(f'Validation Accuracy: {100 * correct / total:.2f}%')"
      ],
      "metadata": {
        "colab": {
          "base_uri": "https://localhost:8080/"
        },
        "id": "vC3sEYgqAbJH",
        "outputId": "6e437c16-65a1-4d0d-e349-b70676b177ec"
      },
      "execution_count": null,
      "outputs": [
        {
          "output_type": "stream",
          "name": "stdout",
          "text": [
            "Epoch [1/20], Loss: 0.9370\n",
            "Validation Accuracy: 67.21%\n",
            "Epoch [2/20], Loss: 0.7369\n",
            "Validation Accuracy: 67.21%\n",
            "Epoch [3/20], Loss: 0.5715\n",
            "Validation Accuracy: 68.85%\n",
            "Epoch [4/20], Loss: 0.7375\n",
            "Validation Accuracy: 70.73%\n",
            "Epoch [5/20], Loss: 0.5409\n",
            "Validation Accuracy: 69.56%\n",
            "Epoch [6/20], Loss: 0.3959\n",
            "Validation Accuracy: 69.56%\n",
            "Epoch [7/20], Loss: 0.6883\n",
            "Validation Accuracy: 68.85%\n",
            "Epoch [8/20], Loss: 0.5099\n",
            "Validation Accuracy: 70.26%\n",
            "Epoch [9/20], Loss: 0.5927\n",
            "Validation Accuracy: 70.96%\n",
            "Epoch [10/20], Loss: 0.5710\n",
            "Validation Accuracy: 69.79%\n",
            "Epoch [11/20], Loss: 0.9047\n",
            "Validation Accuracy: 70.96%\n",
            "Epoch [12/20], Loss: 1.3037\n",
            "Validation Accuracy: 69.56%\n",
            "Epoch [13/20], Loss: 0.8432\n",
            "Validation Accuracy: 69.56%\n",
            "Epoch [14/20], Loss: 0.4653\n",
            "Validation Accuracy: 69.09%\n",
            "Epoch [15/20], Loss: 0.3582\n",
            "Validation Accuracy: 70.96%\n",
            "Epoch [16/20], Loss: 0.5746\n",
            "Validation Accuracy: 71.43%\n",
            "Epoch [17/20], Loss: 0.7571\n",
            "Validation Accuracy: 70.49%\n",
            "Epoch [18/20], Loss: 0.5737\n",
            "Validation Accuracy: 71.66%\n",
            "Epoch [19/20], Loss: 0.6811\n",
            "Validation Accuracy: 71.90%\n",
            "Epoch [20/20], Loss: 0.5485\n",
            "Validation Accuracy: 72.60%\n"
          ]
        }
      ]
    },
    {
      "cell_type": "code",
      "source": [
        "# We evaluate the model on the validation set\n",
        "model.eval()\n",
        "with torch.no_grad():\n",
        "    correct = 0\n",
        "    total = 0\n",
        "    for inputs, labels in val_loader:\n",
        "        inputs, labels = inputs.to(device), labels.to(device)\n",
        "        outputs = model(inputs)\n",
        "        _, predicted = torch.max(outputs.data, 1)\n",
        "        total += labels.size(0)\n",
        "        correct += (predicted == labels).sum().item()\n",
        "\n",
        "    print(f'Final Validation Accuracy: {100 * correct / total:.2f}%')"
      ],
      "metadata": {
        "colab": {
          "base_uri": "https://localhost:8080/"
        },
        "id": "wFyalg2QBpCP",
        "outputId": "01ac827f-ade4-4e3b-f8dc-29c1b165a633"
      },
      "execution_count": null,
      "outputs": [
        {
          "output_type": "stream",
          "name": "stdout",
          "text": [
            "Final Validation Accuracy: 72.60%\n"
          ]
        }
      ]
    },
    {
      "cell_type": "code",
      "source": [
        "# Test with a specific data row\n",
        "\n",
        "\n",
        "#Good one\n",
        "specific_index = 0\n",
        "#Bad one\n",
        "#specific_index = 10\n",
        "\n",
        "# we only take one row from a specific index and its label\n",
        "specific_data = data.iloc[specific_index, :-1].values.astype(np.float32)\n",
        "specific_label = data.iloc[specific_index, -1]  # Actual label\n",
        "\n",
        "# print the row\n",
        "print(\"Specific Data Row (Features):\", specific_data)\n",
        "print(\"Specific Data Row (Full):\", data.iloc[specific_index].values)\n",
        "\n",
        "# Convert the specific data to PyTorch tensor and reshape\n",
        "specific_data_tensor = torch.tensor(specific_data, dtype=torch.float32).view(1, 1, -1).to(device)\n",
        "# Make a prediction\n",
        "model.eval()\n",
        "with torch.no_grad():\n",
        "    prediction = model(specific_data_tensor)\n",
        "    _, predicted_label = torch.max(prediction, 1)\n",
        "    predicted_label = predicted_label.item()\n",
        "\n",
        "# Convert numeric prediction back to label\n",
        "reverse_label_mapping = {0: 'NEGATIVE', 1: 'NEUTRAL', 2: 'POSITIVE'}\n",
        "predicted_label = reverse_label_mapping[predicted_label]\n",
        "\n",
        "print(\"Model Prediction for the specific data row:\", predicted_label)\n",
        "print(\"Actual Label for the specific data row:\", specific_label)"
      ],
      "metadata": {
        "colab": {
          "base_uri": "https://localhost:8080/"
        },
        "id": "ikzk-bSFCO43",
        "outputId": "35ef8bf6-9577-42a6-f130-7436802e3147"
      },
      "execution_count": null,
      "outputs": [
        {
          "output_type": "stream",
          "name": "stdout",
          "text": [
            "Specific Data Row (Features): [   4.62   30.3  -356.   ... -162.   -162.    280.  ]\n",
            "Specific Data Row (Full): [4.62 30.3 -356.0 ... -162.0 280.0 'NEGATIVE']\n",
            "Model Prediction for the specific data row: NEGATIVE\n",
            "Actual Label for the specific data row: NEGATIVE\n"
          ]
        }
      ]
    },
    {
      "cell_type": "code",
      "source": [
        "import matplotlib.pyplot as plt\n",
        "import seaborn as sns\n",
        "from sklearn.metrics import confusion_matrix, ConfusionMatrixDisplay\n",
        "\n",
        "model.eval()\n",
        "all_labels = []\n",
        "all_predictions = []\n",
        "with torch.no_grad():\n",
        "    for inputs, labels in val_loader:\n",
        "        inputs, labels = inputs.to(device), labels.to(device)\n",
        "        outputs = model(inputs)\n",
        "        _, predicted = torch.max(outputs.data, 1)\n",
        "        all_labels.extend(labels.cpu().numpy())\n",
        "        all_predictions.extend(predicted.cpu().numpy())\n",
        "\n",
        "cm = confusion_matrix(all_labels, all_predictions)\n",
        "disp = ConfusionMatrixDisplay(confusion_matrix=cm, display_labels=['NEGATIVE', 'NEUTRAL', 'POSITIVE'])\n",
        "\n",
        "fig, ax = plt.subplots(figsize=(10, 7))\n",
        "disp.plot(ax=ax, cmap='Blues')\n",
        "plt.title('Confusion Matrix')\n",
        "plt.show()\n"
      ],
      "metadata": {
        "colab": {
          "base_uri": "https://localhost:8080/",
          "height": 661
        },
        "id": "CYakV9dCmeFw",
        "outputId": "20d2f825-0796-4f79-a7ce-3c4be77060d0"
      },
      "execution_count": null,
      "outputs": [
        {
          "output_type": "display_data",
          "data": {
            "text/plain": [
              "<Figure size 1000x700 with 2 Axes>"
            ],
            "image/png": "[encoded data removed]"
          },
          "metadata": {}
        }
      ]
    }
  ]
}